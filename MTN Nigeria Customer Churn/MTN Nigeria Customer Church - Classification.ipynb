{
 "cells": [
  {
   "cell_type": "code",
   "execution_count": 1,
   "id": "50601b5e-c27b-4298-9ceb-362d031316fc",
   "metadata": {},
   "outputs": [
    {
     "name": "stderr",
     "output_type": "stream",
     "text": [
      "C:\\Users\\Henry\\AppData\\Local\\Temp\\ipykernel_13364\\252350511.py:10: DeprecationWarning: load_dataset is deprecated and will be removed in future version.\n",
      "  df = kagglehub.load_dataset(\n"
     ]
    },
    {
     "name": "stdout",
     "output_type": "stream",
     "text": [
      "Warning: Looks like you're using an outdated `kagglehub` version (installed: 0.3.10), please consider upgrading to the latest version (0.3.11).\n"
     ]
    }
   ],
   "source": [
    "# Install dependencies as needed:\n",
    "# pip install kagglehub[pandas-datasets]\n",
    "import kagglehub\n",
    "from kagglehub import KaggleDatasetAdapter\n",
    "\n",
    "# Set the path to the file you'd like to load\n",
    "file_path = 'mtn_customer_churn.csv'\n",
    "\n",
    "# Load the latest version\n",
    "df = kagglehub.load_dataset(\n",
    "  KaggleDatasetAdapter.PANDAS,\n",
    "  \"oluwademiladeadeniyi/mtn-nigeria-customer-churn\",\n",
    "  file_path,\n",
    "  # Provide any additional arguments like \n",
    "  # sql_query or pandas_kwargs. See the \n",
    "  # documenation for more information:\n",
    "  # https://github.com/Kaggle/kagglehub/blob/main/README.md#kaggledatasetadapterpandas\n",
    ")"
   ]
  },
  {
   "cell_type": "markdown",
   "id": "d28f9994-5605-441b-aaa9-3b06fa43c866",
   "metadata": {},
   "source": [
    "---"
   ]
  },
  {
   "cell_type": "markdown",
   "id": "3769deb8-ba66-4f3b-b4bb-16f9b8ea7d00",
   "metadata": {},
   "source": [
    "# EDA"
   ]
  },
  {
   "cell_type": "markdown",
   "id": "50b5bb37-655d-4a1d-a5c1-a02c60f68bd2",
   "metadata": {},
   "source": [
    "🧾 Dataset Structure\n",
    "This dataset contains 974 rows of customer entries and the following columns:\n",
    "\n",
    "- Customer ID: A unique identifier assigned to each customer. May appear more than once if the customer owns multiple devices.\n",
    "- Full Name: The full name of the customer. Names reflect a balance across Nigerian ethnicities and regions.\n",
    "- Date of Purchase: Month and year the device or plan was purchased. All entries are from 2025.\n",
    "- Age: Age of the customer (between 16 and 80). Rules apply to age and purchasing behavior.\n",
    "- State: Nigerian state where the customer resides, including the FCT.\n",
    "- MTN Device: Device purchased by the customer. Includes: Mobile SIM Card, Broadband MiFi, 4G Router, 5G Broadband Router.\n",
    "- Gender: Gender of the customer (Male or Female).\n",
    "- Satisfaction Rate: A score from 0 to 5 reflecting the customer’s satisfaction.\n",
    "- Customer Review: Categorical review of the customer experience: Poor, Fair, Good, Very Good, Excellent.\n",
    "- Customer Tenure in months: How long the customer has been subscribed (in months).\n",
    "- Subscription Plan: The name of the MTN data plan purchased (e.g., 60GB Monthly Broadband Plan, 7GB Monthly Plan, etc.).\n",
    "- Unit Price: Cost of the data plan in Nigerian Naira (₦).\n",
    "- Data Usage: Estimated data usage in gigabytes (GB). Not necessarily equal to the plan size—it reflects usage behavior.\n",
    "- Number of Times Purchased: How many times the plan was purchased within the month (simulates customer consumption rate).\n",
    "- Total Revenue: Total amount spent by the customer (calculated as Unit Price × Number of Times Purchased).\n",
    "- Customer Churn Status: Indicates whether the customer has churned (Yes) or is still active (No).\n",
    "- Reasons for Churn: If churned, this field shows the reason (e.g., Poor Network, Relocation, High Call Tariffs, etc.). Empty for active customers."
   ]
  },
  {
   "cell_type": "code",
   "execution_count": 2,
   "id": "4a2b7be9-7c58-4396-88d4-a9c7ebb93203",
   "metadata": {},
   "outputs": [],
   "source": [
    "import numpy as np\n",
    "import matplotlib.pyplot as plt\n",
    "import seaborn as sns\n",
    "from sklearn.preprocessing import LabelEncoder\n",
    "import pandas as pd"
   ]
  },
  {
   "cell_type": "code",
   "execution_count": 3,
   "id": "193cf8d3-968c-48dd-b31d-1c8337ee539d",
   "metadata": {},
   "outputs": [
    {
     "data": {
      "text/html": [
       "<div>\n",
       "<style scoped>\n",
       "    .dataframe tbody tr th:only-of-type {\n",
       "        vertical-align: middle;\n",
       "    }\n",
       "\n",
       "    .dataframe tbody tr th {\n",
       "        vertical-align: top;\n",
       "    }\n",
       "\n",
       "    .dataframe thead th {\n",
       "        text-align: right;\n",
       "    }\n",
       "</style>\n",
       "<table border=\"1\" class=\"dataframe\">\n",
       "  <thead>\n",
       "    <tr style=\"text-align: right;\">\n",
       "      <th></th>\n",
       "      <th>Customer ID</th>\n",
       "      <th>Full Name</th>\n",
       "      <th>Date of Purchase</th>\n",
       "      <th>Age</th>\n",
       "      <th>State</th>\n",
       "      <th>MTN Device</th>\n",
       "      <th>Gender</th>\n",
       "      <th>Satisfaction Rate</th>\n",
       "      <th>Customer Review</th>\n",
       "      <th>Customer Tenure in months</th>\n",
       "      <th>Subscription Plan</th>\n",
       "      <th>Unit Price</th>\n",
       "      <th>Number of Times Purchased</th>\n",
       "      <th>Total Revenue</th>\n",
       "      <th>Data Usage</th>\n",
       "      <th>Customer Churn Status</th>\n",
       "      <th>Reasons for Churn</th>\n",
       "    </tr>\n",
       "  </thead>\n",
       "  <tbody>\n",
       "    <tr>\n",
       "      <th>0</th>\n",
       "      <td>CUST0001</td>\n",
       "      <td>Ngozi Berry</td>\n",
       "      <td>Jan-25</td>\n",
       "      <td>27</td>\n",
       "      <td>Kwara</td>\n",
       "      <td>4G Router</td>\n",
       "      <td>Male</td>\n",
       "      <td>2</td>\n",
       "      <td>Fair</td>\n",
       "      <td>2</td>\n",
       "      <td>165GB Monthly Plan</td>\n",
       "      <td>35000</td>\n",
       "      <td>19</td>\n",
       "      <td>665000</td>\n",
       "      <td>44.48</td>\n",
       "      <td>Yes</td>\n",
       "      <td>Relocation</td>\n",
       "    </tr>\n",
       "    <tr>\n",
       "      <th>1</th>\n",
       "      <td>CUST0002</td>\n",
       "      <td>Zainab Baker</td>\n",
       "      <td>Mar-25</td>\n",
       "      <td>16</td>\n",
       "      <td>Abuja (FCT)</td>\n",
       "      <td>Mobile SIM Card</td>\n",
       "      <td>Female</td>\n",
       "      <td>2</td>\n",
       "      <td>Fair</td>\n",
       "      <td>22</td>\n",
       "      <td>12.5GB Monthly Plan</td>\n",
       "      <td>5500</td>\n",
       "      <td>12</td>\n",
       "      <td>66000</td>\n",
       "      <td>19.79</td>\n",
       "      <td>Yes</td>\n",
       "      <td>Better Offers from Competitors</td>\n",
       "    </tr>\n",
       "    <tr>\n",
       "      <th>2</th>\n",
       "      <td>CUST0003</td>\n",
       "      <td>Saidu Evans</td>\n",
       "      <td>Mar-25</td>\n",
       "      <td>21</td>\n",
       "      <td>Sokoto</td>\n",
       "      <td>5G Broadband Router</td>\n",
       "      <td>Male</td>\n",
       "      <td>1</td>\n",
       "      <td>Poor</td>\n",
       "      <td>60</td>\n",
       "      <td>150GB FUP Monthly Unlimited</td>\n",
       "      <td>20000</td>\n",
       "      <td>8</td>\n",
       "      <td>160000</td>\n",
       "      <td>9.64</td>\n",
       "      <td>No</td>\n",
       "      <td>NaN</td>\n",
       "    </tr>\n",
       "    <tr>\n",
       "      <th>3</th>\n",
       "      <td>CUST0003</td>\n",
       "      <td>Saidu Evans</td>\n",
       "      <td>Mar-25</td>\n",
       "      <td>21</td>\n",
       "      <td>Sokoto</td>\n",
       "      <td>Mobile SIM Card</td>\n",
       "      <td>Male</td>\n",
       "      <td>1</td>\n",
       "      <td>Poor</td>\n",
       "      <td>60</td>\n",
       "      <td>1GB+1.5mins Daily Plan</td>\n",
       "      <td>500</td>\n",
       "      <td>8</td>\n",
       "      <td>4000</td>\n",
       "      <td>197.05</td>\n",
       "      <td>No</td>\n",
       "      <td>NaN</td>\n",
       "    </tr>\n",
       "    <tr>\n",
       "      <th>4</th>\n",
       "      <td>CUST0003</td>\n",
       "      <td>Saidu Evans</td>\n",
       "      <td>Mar-25</td>\n",
       "      <td>21</td>\n",
       "      <td>Sokoto</td>\n",
       "      <td>Broadband MiFi</td>\n",
       "      <td>Male</td>\n",
       "      <td>1</td>\n",
       "      <td>Poor</td>\n",
       "      <td>60</td>\n",
       "      <td>30GB Monthly Broadband Plan</td>\n",
       "      <td>9000</td>\n",
       "      <td>15</td>\n",
       "      <td>135000</td>\n",
       "      <td>76.34</td>\n",
       "      <td>No</td>\n",
       "      <td>NaN</td>\n",
       "    </tr>\n",
       "  </tbody>\n",
       "</table>\n",
       "</div>"
      ],
      "text/plain": [
       "  Customer ID     Full Name Date of Purchase  Age        State  \\\n",
       "0    CUST0001   Ngozi Berry           Jan-25   27        Kwara   \n",
       "1    CUST0002  Zainab Baker           Mar-25   16  Abuja (FCT)   \n",
       "2    CUST0003   Saidu Evans           Mar-25   21       Sokoto   \n",
       "3    CUST0003   Saidu Evans           Mar-25   21       Sokoto   \n",
       "4    CUST0003   Saidu Evans           Mar-25   21       Sokoto   \n",
       "\n",
       "            MTN Device  Gender  Satisfaction Rate Customer Review  \\\n",
       "0            4G Router    Male                  2            Fair   \n",
       "1      Mobile SIM Card  Female                  2            Fair   \n",
       "2  5G Broadband Router    Male                  1            Poor   \n",
       "3      Mobile SIM Card    Male                  1            Poor   \n",
       "4       Broadband MiFi    Male                  1            Poor   \n",
       "\n",
       "   Customer Tenure in months            Subscription Plan  Unit Price  \\\n",
       "0                          2           165GB Monthly Plan       35000   \n",
       "1                         22          12.5GB Monthly Plan        5500   \n",
       "2                         60  150GB FUP Monthly Unlimited       20000   \n",
       "3                         60       1GB+1.5mins Daily Plan         500   \n",
       "4                         60  30GB Monthly Broadband Plan        9000   \n",
       "\n",
       "   Number of Times Purchased  Total Revenue  Data Usage Customer Churn Status  \\\n",
       "0                         19         665000       44.48                   Yes   \n",
       "1                         12          66000       19.79                   Yes   \n",
       "2                          8         160000        9.64                    No   \n",
       "3                          8           4000      197.05                    No   \n",
       "4                         15         135000       76.34                    No   \n",
       "\n",
       "                Reasons for Churn  \n",
       "0                      Relocation  \n",
       "1  Better Offers from Competitors  \n",
       "2                             NaN  \n",
       "3                             NaN  \n",
       "4                             NaN  "
      ]
     },
     "execution_count": 3,
     "metadata": {},
     "output_type": "execute_result"
    }
   ],
   "source": [
    "df.head()"
   ]
  },
  {
   "cell_type": "code",
   "execution_count": 4,
   "id": "b60542df-d046-4250-8748-f04b390f3c48",
   "metadata": {},
   "outputs": [
    {
     "data": {
      "text/plain": [
       "Customer ID                   object\n",
       "Full Name                     object\n",
       "Date of Purchase              object\n",
       "Age                            int64\n",
       "State                         object\n",
       "MTN Device                    object\n",
       "Gender                        object\n",
       "Satisfaction Rate              int64\n",
       "Customer Review               object\n",
       "Customer Tenure in months      int64\n",
       "Subscription Plan             object\n",
       "Unit Price                     int64\n",
       "Number of Times Purchased      int64\n",
       "Total Revenue                  int64\n",
       "Data Usage                   float64\n",
       "Customer Churn Status         object\n",
       "Reasons for Churn             object\n",
       "dtype: object"
      ]
     },
     "execution_count": 4,
     "metadata": {},
     "output_type": "execute_result"
    }
   ],
   "source": [
    "df.dtypes"
   ]
  },
  {
   "cell_type": "code",
   "execution_count": 5,
   "id": "aa7cc1d8-e142-42da-9ccd-8dd80a476a6d",
   "metadata": {},
   "outputs": [
    {
     "data": {
      "text/plain": [
       "Customer ID                    0\n",
       "Full Name                      0\n",
       "Date of Purchase               0\n",
       "Age                            0\n",
       "State                          0\n",
       "MTN Device                     0\n",
       "Gender                         0\n",
       "Satisfaction Rate              0\n",
       "Customer Review                0\n",
       "Customer Tenure in months      0\n",
       "Subscription Plan              0\n",
       "Unit Price                     0\n",
       "Number of Times Purchased      0\n",
       "Total Revenue                  0\n",
       "Data Usage                     0\n",
       "Customer Churn Status          0\n",
       "Reasons for Churn            690\n",
       "dtype: int64"
      ]
     },
     "execution_count": 5,
     "metadata": {},
     "output_type": "execute_result"
    }
   ],
   "source": [
    "df.isnull().sum()"
   ]
  },
  {
   "cell_type": "code",
   "execution_count": 6,
   "id": "a13c830a-d82f-46b5-ae01-4324adb026d0",
   "metadata": {},
   "outputs": [
    {
     "data": {
      "text/plain": [
       "array(['Yes', 'No'], dtype=object)"
      ]
     },
     "execution_count": 6,
     "metadata": {},
     "output_type": "execute_result"
    }
   ],
   "source": [
    "df['Customer Churn Status'].unique()"
   ]
  },
  {
   "cell_type": "code",
   "execution_count": 7,
   "id": "49ab53e0-338b-4fd5-a29c-241bab2bf3a6",
   "metadata": {
    "scrolled": true
   },
   "outputs": [],
   "source": [
    "label_churn_status = LabelEncoder()\n",
    "\n",
    "df['Customer_Churn_Status_Label'] = label_churn_status.fit_transform(df['Customer Churn Status'])"
   ]
  },
  {
   "cell_type": "code",
   "execution_count": 8,
   "id": "81218dbe-da17-4bf9-a53b-f80e2c0aabd9",
   "metadata": {},
   "outputs": [
    {
     "data": {
      "text/html": [
       "<div>\n",
       "<style scoped>\n",
       "    .dataframe tbody tr th:only-of-type {\n",
       "        vertical-align: middle;\n",
       "    }\n",
       "\n",
       "    .dataframe tbody tr th {\n",
       "        vertical-align: top;\n",
       "    }\n",
       "\n",
       "    .dataframe thead th {\n",
       "        text-align: right;\n",
       "    }\n",
       "</style>\n",
       "<table border=\"1\" class=\"dataframe\">\n",
       "  <thead>\n",
       "    <tr style=\"text-align: right;\">\n",
       "      <th></th>\n",
       "      <th>Customer Churn Status</th>\n",
       "      <th>Customer_Churn_Status_Label</th>\n",
       "    </tr>\n",
       "  </thead>\n",
       "  <tbody>\n",
       "    <tr>\n",
       "      <th>0</th>\n",
       "      <td>Yes</td>\n",
       "      <td>1</td>\n",
       "    </tr>\n",
       "    <tr>\n",
       "      <th>1</th>\n",
       "      <td>Yes</td>\n",
       "      <td>1</td>\n",
       "    </tr>\n",
       "    <tr>\n",
       "      <th>2</th>\n",
       "      <td>No</td>\n",
       "      <td>0</td>\n",
       "    </tr>\n",
       "    <tr>\n",
       "      <th>3</th>\n",
       "      <td>No</td>\n",
       "      <td>0</td>\n",
       "    </tr>\n",
       "    <tr>\n",
       "      <th>4</th>\n",
       "      <td>No</td>\n",
       "      <td>0</td>\n",
       "    </tr>\n",
       "  </tbody>\n",
       "</table>\n",
       "</div>"
      ],
      "text/plain": [
       "  Customer Churn Status  Customer_Churn_Status_Label\n",
       "0                   Yes                            1\n",
       "1                   Yes                            1\n",
       "2                    No                            0\n",
       "3                    No                            0\n",
       "4                    No                            0"
      ]
     },
     "execution_count": 8,
     "metadata": {},
     "output_type": "execute_result"
    }
   ],
   "source": [
    "df[['Customer Churn Status', 'Customer_Churn_Status_Label']].head()"
   ]
  },
  {
   "cell_type": "code",
   "execution_count": 9,
   "id": "c5b3f681-a047-4140-95b2-abc63e4db4cc",
   "metadata": {},
   "outputs": [
    {
     "data": {
      "text/plain": [
       "<Axes: >"
      ]
     },
     "execution_count": 9,
     "metadata": {},
     "output_type": "execute_result"
    },
    {
     "data": {
      "image/png": "[encoded data removed]",
      "text/plain": [
       "<Figure size 1200x800 with 2 Axes>"
      ]
     },
     "metadata": {},
     "output_type": "display_data"
    }
   ],
   "source": [
    "plt.figure(figsize=(12,8))\n",
    "sns.heatmap(df.corr(numeric_only=True), annot=True, cmap='viridis')"
   ]
  },
  {
   "cell_type": "code",
   "execution_count": 10,
   "id": "98364b93-81ea-42e2-b72b-eee564dfd2c4",
   "metadata": {},
   "outputs": [
    {
     "data": {
      "text/plain": [
       "<Axes: xlabel='Customer Churn Status', ylabel='count'>"
      ]
     },
     "execution_count": 10,
     "metadata": {},
     "output_type": "execute_result"
    },
    {
     "data": {
      "image/png": "[encoded data removed]",
      "text/plain": [
       "<Figure size 640x480 with 1 Axes>"
      ]
     },
     "metadata": {},
     "output_type": "display_data"
    }
   ],
   "source": [
    "sns.countplot(x='Customer Churn Status', data=df)"
   ]
  },
  {
   "cell_type": "code",
   "execution_count": 11,
   "id": "ba256f7b-e002-4ed0-8cc5-0c6466270e39",
   "metadata": {
    "scrolled": true
   },
   "outputs": [
    {
     "data": {
      "text/plain": [
       "<Axes: xlabel='Customer Churn Status', ylabel='Satisfaction Rate'>"
      ]
     },
     "execution_count": 11,
     "metadata": {},
     "output_type": "execute_result"
    },
    {
     "data": {
      "image/png": "[encoded data removed]",
      "text/plain": [
       "<Figure size 640x480 with 1 Axes>"
      ]
     },
     "metadata": {},
     "output_type": "display_data"
    }
   ],
   "source": [
    "# Satisfaction Rate vs. Customer Churn Status\n",
    "sns.boxplot(y='Satisfaction Rate', x='Customer Churn Status', data=df, hue='Customer Churn Status')"
   ]
  },
  {
   "cell_type": "code",
   "execution_count": 12,
   "id": "9f67710b-b388-4006-9be2-dbac29b57d31",
   "metadata": {
    "scrolled": true
   },
   "outputs": [
    {
     "data": {
      "text/plain": [
       "<Axes: xlabel='Age', ylabel='Density'>"
      ]
     },
     "execution_count": 12,
     "metadata": {},
     "output_type": "execute_result"
    },
    {
     "data": {
      "image/png": "[encoded data removed]",
      "text/plain": [
       "<Figure size 640x480 with 1 Axes>"
      ]
     },
     "metadata": {},
     "output_type": "display_data"
    }
   ],
   "source": [
    "# Age x Churn Status\n",
    "sns.kdeplot(x='Age', data=df, hue='Customer Churn Status')"
   ]
  },
  {
   "cell_type": "code",
   "execution_count": 13,
   "id": "9acb1aa1-79fc-4aef-a77d-e1c23848c971",
   "metadata": {},
   "outputs": [
    {
     "data": {
      "text/plain": [
       "<Axes: xlabel='Gender', ylabel='Count'>"
      ]
     },
     "execution_count": 13,
     "metadata": {},
     "output_type": "execute_result"
    },
    {
     "data": {
      "image/png": "[encoded data removed]",
      "text/plain": [
       "<Figure size 640x480 with 1 Axes>"
      ]
     },
     "metadata": {},
     "output_type": "display_data"
    }
   ],
   "source": [
    "# Gender x Churn Status\n",
    "sns.histplot(x='Gender', data=df, hue='Customer Churn Status')"
   ]
  },
  {
   "cell_type": "code",
   "execution_count": 14,
   "id": "bd0e9674-e893-4d58-b80f-f2972069236b",
   "metadata": {
    "scrolled": true
   },
   "outputs": [
    {
     "data": {
      "image/png": "[encoded data removed]",
      "text/plain": [
       "<Figure size 640x480 with 1 Axes>"
      ]
     },
     "metadata": {},
     "output_type": "display_data"
    }
   ],
   "source": [
    "sns.countplot(data=df, x='Customer Review', hue='Customer Churn Status')\n",
    "plt.title(\"Distribuição de Churn por Tipo de Review\")\n",
    "plt.show()"
   ]
  },
  {
   "cell_type": "code",
   "execution_count": 15,
   "id": "3d6e3302-173f-4822-b7f6-70e28a58ba31",
   "metadata": {
    "scrolled": true
   },
   "outputs": [
    {
     "data": {
      "image/png": "[encoded data removed]",
      "text/plain": [
       "<Figure size 1000x600 with 1 Axes>"
      ]
     },
     "metadata": {},
     "output_type": "display_data"
    }
   ],
   "source": [
    "churned = df[df['Customer Churn Status'] == 'Yes']\n",
    "\n",
    "reasons_counts = churned['Reasons for Churn'].value_counts()\n",
    "\n",
    "plt.figure(figsize=(10, 6))\n",
    "sns.barplot(x=reasons_counts.values, y=reasons_counts.index, hue=reasons_counts.index)\n",
    "plt.title('Reason for Churn')\n",
    "plt.xlabel('Numbers of Clients')\n",
    "plt.ylabel('Reasons')\n",
    "plt.tight_layout()\n",
    "plt.show()"
   ]
  },
  {
   "cell_type": "markdown",
   "id": "509e2efe-e700-4225-882b-dccd448be89f",
   "metadata": {},
   "source": [
    "## Conslusion\n",
    "\n",
    "Existe uma grande diferença entre casos de Churn e não Churn, o que pode influenciar na falta de correlação entre a `Satisfaction Rate` e `Customer Churn Status`.\n",
    "\n",
    "Os casos de Churn tem a maior probabilidade de acontencer com clientes de idade entre 25 a 35 anos.\n",
    "\n",
    "Os feedbacks de clientes não condiz com `Churn`, já que o feedback `Excellent` tem uma chance maior de churn do que `Poor`.\n",
    "\n",
    "Os motivos de maior `Churn` são `High Call Tarrifs` e `Betters Offers from Competitors`\n",
    "\n",
    "`Reasons for Churn` == NaN, são consumidores ativos"
   ]
  },
  {
   "cell_type": "markdown",
   "id": "a3ab08f3-4814-4de8-8852-7eb59d9a6987",
   "metadata": {},
   "source": [
    "# Preprocessing"
   ]
  },
  {
   "cell_type": "code",
   "execution_count": 16,
   "id": "332be2ef-5a83-4bf4-95d7-30c84bcec379",
   "metadata": {},
   "outputs": [
    {
     "data": {
      "text/html": [
       "<div>\n",
       "<style scoped>\n",
       "    .dataframe tbody tr th:only-of-type {\n",
       "        vertical-align: middle;\n",
       "    }\n",
       "\n",
       "    .dataframe tbody tr th {\n",
       "        vertical-align: top;\n",
       "    }\n",
       "\n",
       "    .dataframe thead th {\n",
       "        text-align: right;\n",
       "    }\n",
       "</style>\n",
       "<table border=\"1\" class=\"dataframe\">\n",
       "  <thead>\n",
       "    <tr style=\"text-align: right;\">\n",
       "      <th></th>\n",
       "      <th>Customer ID</th>\n",
       "      <th>Full Name</th>\n",
       "      <th>Date of Purchase</th>\n",
       "      <th>Age</th>\n",
       "      <th>State</th>\n",
       "      <th>MTN Device</th>\n",
       "      <th>Gender</th>\n",
       "      <th>Satisfaction Rate</th>\n",
       "      <th>Customer Review</th>\n",
       "      <th>Customer Tenure in months</th>\n",
       "      <th>Subscription Plan</th>\n",
       "      <th>Unit Price</th>\n",
       "      <th>Number of Times Purchased</th>\n",
       "      <th>Total Revenue</th>\n",
       "      <th>Data Usage</th>\n",
       "      <th>Customer Churn Status</th>\n",
       "      <th>Reasons for Churn</th>\n",
       "      <th>Customer_Churn_Status_Label</th>\n",
       "    </tr>\n",
       "  </thead>\n",
       "  <tbody>\n",
       "    <tr>\n",
       "      <th>0</th>\n",
       "      <td>CUST0001</td>\n",
       "      <td>Ngozi Berry</td>\n",
       "      <td>Jan-25</td>\n",
       "      <td>27</td>\n",
       "      <td>Kwara</td>\n",
       "      <td>4G Router</td>\n",
       "      <td>Male</td>\n",
       "      <td>2</td>\n",
       "      <td>Fair</td>\n",
       "      <td>2</td>\n",
       "      <td>165GB Monthly Plan</td>\n",
       "      <td>35000</td>\n",
       "      <td>19</td>\n",
       "      <td>665000</td>\n",
       "      <td>44.48</td>\n",
       "      <td>Yes</td>\n",
       "      <td>Relocation</td>\n",
       "      <td>1</td>\n",
       "    </tr>\n",
       "  </tbody>\n",
       "</table>\n",
       "</div>"
      ],
      "text/plain": [
       "  Customer ID    Full Name Date of Purchase  Age  State MTN Device Gender  \\\n",
       "0    CUST0001  Ngozi Berry           Jan-25   27  Kwara  4G Router   Male   \n",
       "\n",
       "   Satisfaction Rate Customer Review  Customer Tenure in months  \\\n",
       "0                  2            Fair                          2   \n",
       "\n",
       "    Subscription Plan  Unit Price  Number of Times Purchased  Total Revenue  \\\n",
       "0  165GB Monthly Plan       35000                         19         665000   \n",
       "\n",
       "   Data Usage Customer Churn Status Reasons for Churn  \\\n",
       "0       44.48                   Yes        Relocation   \n",
       "\n",
       "   Customer_Churn_Status_Label  \n",
       "0                            1  "
      ]
     },
     "execution_count": 16,
     "metadata": {},
     "output_type": "execute_result"
    }
   ],
   "source": [
    "df.head(1)"
   ]
  },
  {
   "cell_type": "code",
   "execution_count": 17,
   "id": "5361c90e-0c2b-4d77-acc5-ded94733d653",
   "metadata": {},
   "outputs": [],
   "source": [
    "# A Reasons For Churn é uma variável preenchida somente após a saída do cliente, sendo um data leakage para o modelo\n",
    "df.drop(['Customer ID', 'Full Name', 'Date of Purchase', 'State', 'Reasons for Churn'], axis=1, inplace=True)"
   ]
  },
  {
   "cell_type": "markdown",
   "id": "3abfa74c-31bf-491e-93e1-2b192718bbd2",
   "metadata": {},
   "source": [
    "---"
   ]
  },
  {
   "cell_type": "code",
   "execution_count": 18,
   "id": "57551571-bcb5-4963-9815-8058229cd116",
   "metadata": {
    "scrolled": true
   },
   "outputs": [
    {
     "data": {
      "text/plain": [
       "array(['4G Router', 'Mobile SIM Card', '5G Broadband Router',\n",
       "       'Broadband MiFi'], dtype=object)"
      ]
     },
     "execution_count": 18,
     "metadata": {},
     "output_type": "execute_result"
    }
   ],
   "source": [
    "df['MTN Device'].unique()"
   ]
  },
  {
   "cell_type": "code",
   "execution_count": 19,
   "id": "ebaf72e6-c62d-4c77-9949-d5d9575daff2",
   "metadata": {
    "scrolled": true
   },
   "outputs": [],
   "source": [
    "df = pd.get_dummies(df, columns=['MTN Device'], dtype=int)"
   ]
  },
  {
   "cell_type": "code",
   "execution_count": 20,
   "id": "cdee0592-b09f-4c3e-9325-b8646cb107fa",
   "metadata": {},
   "outputs": [
    {
     "data": {
      "text/html": [
       "<div>\n",
       "<style scoped>\n",
       "    .dataframe tbody tr th:only-of-type {\n",
       "        vertical-align: middle;\n",
       "    }\n",
       "\n",
       "    .dataframe tbody tr th {\n",
       "        vertical-align: top;\n",
       "    }\n",
       "\n",
       "    .dataframe thead th {\n",
       "        text-align: right;\n",
       "    }\n",
       "</style>\n",
       "<table border=\"1\" class=\"dataframe\">\n",
       "  <thead>\n",
       "    <tr style=\"text-align: right;\">\n",
       "      <th></th>\n",
       "      <th>Age</th>\n",
       "      <th>Gender</th>\n",
       "      <th>Satisfaction Rate</th>\n",
       "      <th>Customer Review</th>\n",
       "      <th>Customer Tenure in months</th>\n",
       "      <th>Subscription Plan</th>\n",
       "      <th>Unit Price</th>\n",
       "      <th>Number of Times Purchased</th>\n",
       "      <th>Total Revenue</th>\n",
       "      <th>Data Usage</th>\n",
       "      <th>Customer Churn Status</th>\n",
       "      <th>Customer_Churn_Status_Label</th>\n",
       "      <th>MTN Device_4G Router</th>\n",
       "      <th>MTN Device_5G Broadband Router</th>\n",
       "      <th>MTN Device_Broadband MiFi</th>\n",
       "      <th>MTN Device_Mobile SIM Card</th>\n",
       "    </tr>\n",
       "  </thead>\n",
       "  <tbody>\n",
       "    <tr>\n",
       "      <th>0</th>\n",
       "      <td>27</td>\n",
       "      <td>Male</td>\n",
       "      <td>2</td>\n",
       "      <td>Fair</td>\n",
       "      <td>2</td>\n",
       "      <td>165GB Monthly Plan</td>\n",
       "      <td>35000</td>\n",
       "      <td>19</td>\n",
       "      <td>665000</td>\n",
       "      <td>44.48</td>\n",
       "      <td>Yes</td>\n",
       "      <td>1</td>\n",
       "      <td>1</td>\n",
       "      <td>0</td>\n",
       "      <td>0</td>\n",
       "      <td>0</td>\n",
       "    </tr>\n",
       "  </tbody>\n",
       "</table>\n",
       "</div>"
      ],
      "text/plain": [
       "   Age Gender  Satisfaction Rate Customer Review  Customer Tenure in months  \\\n",
       "0   27   Male                  2            Fair                          2   \n",
       "\n",
       "    Subscription Plan  Unit Price  Number of Times Purchased  Total Revenue  \\\n",
       "0  165GB Monthly Plan       35000                         19         665000   \n",
       "\n",
       "   Data Usage Customer Churn Status  Customer_Churn_Status_Label  \\\n",
       "0       44.48                   Yes                            1   \n",
       "\n",
       "   MTN Device_4G Router  MTN Device_5G Broadband Router  \\\n",
       "0                     1                               0   \n",
       "\n",
       "   MTN Device_Broadband MiFi  MTN Device_Mobile SIM Card  \n",
       "0                          0                           0  "
      ]
     },
     "execution_count": 20,
     "metadata": {},
     "output_type": "execute_result"
    }
   ],
   "source": [
    "df.head(1)"
   ]
  },
  {
   "cell_type": "markdown",
   "id": "b76f83de-0efc-4932-b67f-b2b636ea92a7",
   "metadata": {},
   "source": [
    "---"
   ]
  },
  {
   "cell_type": "code",
   "execution_count": 21,
   "id": "868617a4-af42-4a2f-babc-3c880fd5aca1",
   "metadata": {},
   "outputs": [],
   "source": [
    "label_gender = LabelEncoder()\n",
    "\n",
    "df['Gender_Cat'] = label_gender.fit_transform(df['Gender'])"
   ]
  },
  {
   "cell_type": "code",
   "execution_count": 22,
   "id": "3f1f31b0-ee2f-4c5f-b886-4ef828d54750",
   "metadata": {},
   "outputs": [
    {
     "data": {
      "text/html": [
       "<div>\n",
       "<style scoped>\n",
       "    .dataframe tbody tr th:only-of-type {\n",
       "        vertical-align: middle;\n",
       "    }\n",
       "\n",
       "    .dataframe tbody tr th {\n",
       "        vertical-align: top;\n",
       "    }\n",
       "\n",
       "    .dataframe thead th {\n",
       "        text-align: right;\n",
       "    }\n",
       "</style>\n",
       "<table border=\"1\" class=\"dataframe\">\n",
       "  <thead>\n",
       "    <tr style=\"text-align: right;\">\n",
       "      <th></th>\n",
       "      <th>Gender</th>\n",
       "      <th>Gender_Cat</th>\n",
       "    </tr>\n",
       "  </thead>\n",
       "  <tbody>\n",
       "    <tr>\n",
       "      <th>0</th>\n",
       "      <td>Male</td>\n",
       "      <td>1</td>\n",
       "    </tr>\n",
       "    <tr>\n",
       "      <th>1</th>\n",
       "      <td>Female</td>\n",
       "      <td>0</td>\n",
       "    </tr>\n",
       "    <tr>\n",
       "      <th>2</th>\n",
       "      <td>Male</td>\n",
       "      <td>1</td>\n",
       "    </tr>\n",
       "    <tr>\n",
       "      <th>3</th>\n",
       "      <td>Male</td>\n",
       "      <td>1</td>\n",
       "    </tr>\n",
       "    <tr>\n",
       "      <th>4</th>\n",
       "      <td>Male</td>\n",
       "      <td>1</td>\n",
       "    </tr>\n",
       "  </tbody>\n",
       "</table>\n",
       "</div>"
      ],
      "text/plain": [
       "   Gender  Gender_Cat\n",
       "0    Male           1\n",
       "1  Female           0\n",
       "2    Male           1\n",
       "3    Male           1\n",
       "4    Male           1"
      ]
     },
     "execution_count": 22,
     "metadata": {},
     "output_type": "execute_result"
    }
   ],
   "source": [
    "df[['Gender', 'Gender_Cat']].head()"
   ]
  },
  {
   "cell_type": "code",
   "execution_count": 23,
   "id": "c940789a-d853-4c9f-a017-f560230c13f6",
   "metadata": {},
   "outputs": [],
   "source": [
    "df.drop('Gender', axis=1, inplace=True)"
   ]
  },
  {
   "cell_type": "markdown",
   "id": "47b83bf4-551e-482a-bff1-3c1fe2de86ff",
   "metadata": {},
   "source": [
    "---"
   ]
  },
  {
   "cell_type": "code",
   "execution_count": 24,
   "id": "8a62f072-e826-4e4e-bee6-e1c123c960b5",
   "metadata": {},
   "outputs": [
    {
     "data": {
      "text/plain": [
       "array(['Fair', 'Poor', 'Good', 'Excellent', 'Very Good'], dtype=object)"
      ]
     },
     "execution_count": 24,
     "metadata": {},
     "output_type": "execute_result"
    }
   ],
   "source": [
    "df['Customer Review'].unique()"
   ]
  },
  {
   "cell_type": "code",
   "execution_count": 25,
   "id": "ab1585ee-2bf2-4301-a6bc-4e1912fb2d47",
   "metadata": {
    "scrolled": true
   },
   "outputs": [
    {
     "data": {
      "text/html": [
       "<div>\n",
       "<style scoped>\n",
       "    .dataframe tbody tr th:only-of-type {\n",
       "        vertical-align: middle;\n",
       "    }\n",
       "\n",
       "    .dataframe tbody tr th {\n",
       "        vertical-align: top;\n",
       "    }\n",
       "\n",
       "    .dataframe thead th {\n",
       "        text-align: right;\n",
       "    }\n",
       "</style>\n",
       "<table border=\"1\" class=\"dataframe\">\n",
       "  <thead>\n",
       "    <tr style=\"text-align: right;\">\n",
       "      <th></th>\n",
       "      <th>Customer Review</th>\n",
       "      <th>Customer_Review_Cat</th>\n",
       "    </tr>\n",
       "  </thead>\n",
       "  <tbody>\n",
       "    <tr>\n",
       "      <th>0</th>\n",
       "      <td>Fair</td>\n",
       "      <td>1</td>\n",
       "    </tr>\n",
       "    <tr>\n",
       "      <th>1</th>\n",
       "      <td>Fair</td>\n",
       "      <td>1</td>\n",
       "    </tr>\n",
       "    <tr>\n",
       "      <th>2</th>\n",
       "      <td>Poor</td>\n",
       "      <td>0</td>\n",
       "    </tr>\n",
       "    <tr>\n",
       "      <th>3</th>\n",
       "      <td>Poor</td>\n",
       "      <td>0</td>\n",
       "    </tr>\n",
       "    <tr>\n",
       "      <th>4</th>\n",
       "      <td>Poor</td>\n",
       "      <td>0</td>\n",
       "    </tr>\n",
       "  </tbody>\n",
       "</table>\n",
       "</div>"
      ],
      "text/plain": [
       "  Customer Review  Customer_Review_Cat\n",
       "0            Fair                    1\n",
       "1            Fair                    1\n",
       "2            Poor                    0\n",
       "3            Poor                    0\n",
       "4            Poor                    0"
      ]
     },
     "execution_count": 25,
     "metadata": {},
     "output_type": "execute_result"
    }
   ],
   "source": [
    "review_map = {\n",
    "    'Poor': 0,\n",
    "    'Fair': 1,\n",
    "    'Good': 2,\n",
    "    'Very Good': 3,\n",
    "    'Excellent':4,\n",
    "}\n",
    "\n",
    "df['Customer_Review_Cat'] = df['Customer Review'].map(review_map)\n",
    "\n",
    "df[['Customer Review', 'Customer_Review_Cat']].head()"
   ]
  },
  {
   "cell_type": "code",
   "execution_count": 26,
   "id": "8ff4a30b-82a8-4f8e-8624-666d49e81914",
   "metadata": {},
   "outputs": [],
   "source": [
    "df.drop('Customer Review', axis=1, inplace=True)"
   ]
  },
  {
   "cell_type": "markdown",
   "id": "dfb47a93-88b7-4acd-8792-431d92760c02",
   "metadata": {},
   "source": [
    "---"
   ]
  },
  {
   "cell_type": "code",
   "execution_count": 27,
   "id": "25685568-78bc-41e0-848b-b99a01075437",
   "metadata": {},
   "outputs": [],
   "source": [
    "df = pd.get_dummies(data=df, columns=['Subscription Plan'], dtype=int)"
   ]
  },
  {
   "cell_type": "code",
   "execution_count": 28,
   "id": "e8ae86b5-d2fe-44de-9b24-38c174501681",
   "metadata": {},
   "outputs": [
    {
     "data": {
      "text/html": [
       "<div>\n",
       "<style scoped>\n",
       "    .dataframe tbody tr th:only-of-type {\n",
       "        vertical-align: middle;\n",
       "    }\n",
       "\n",
       "    .dataframe tbody tr th {\n",
       "        vertical-align: top;\n",
       "    }\n",
       "\n",
       "    .dataframe thead th {\n",
       "        text-align: right;\n",
       "    }\n",
       "</style>\n",
       "<table border=\"1\" class=\"dataframe\">\n",
       "  <thead>\n",
       "    <tr style=\"text-align: right;\">\n",
       "      <th></th>\n",
       "      <th>Age</th>\n",
       "      <th>Satisfaction Rate</th>\n",
       "      <th>Customer Tenure in months</th>\n",
       "      <th>Unit Price</th>\n",
       "      <th>Number of Times Purchased</th>\n",
       "      <th>Total Revenue</th>\n",
       "      <th>Data Usage</th>\n",
       "      <th>Customer Churn Status</th>\n",
       "      <th>Customer_Churn_Status_Label</th>\n",
       "      <th>MTN Device_4G Router</th>\n",
       "      <th>...</th>\n",
       "      <th>Subscription Plan_20GB Monthly Plan</th>\n",
       "      <th>Subscription Plan_25GB Monthly Plan</th>\n",
       "      <th>Subscription Plan_3.2GB 2-Day Plan</th>\n",
       "      <th>Subscription Plan_300GB FUP Monthly Unlimited</th>\n",
       "      <th>Subscription Plan_30GB Monthly Broadband Plan</th>\n",
       "      <th>Subscription Plan_450GB 3-Month Broadband Plan</th>\n",
       "      <th>Subscription Plan_500MB Daily Plan</th>\n",
       "      <th>Subscription Plan_60GB Monthly Broadband Plan</th>\n",
       "      <th>Subscription Plan_65GB Monthly Plan</th>\n",
       "      <th>Subscription Plan_7GB Monthly Plan</th>\n",
       "    </tr>\n",
       "  </thead>\n",
       "  <tbody>\n",
       "    <tr>\n",
       "      <th>0</th>\n",
       "      <td>27</td>\n",
       "      <td>2</td>\n",
       "      <td>2</td>\n",
       "      <td>35000</td>\n",
       "      <td>19</td>\n",
       "      <td>665000</td>\n",
       "      <td>44.48</td>\n",
       "      <td>Yes</td>\n",
       "      <td>1</td>\n",
       "      <td>1</td>\n",
       "      <td>...</td>\n",
       "      <td>0</td>\n",
       "      <td>0</td>\n",
       "      <td>0</td>\n",
       "      <td>0</td>\n",
       "      <td>0</td>\n",
       "      <td>0</td>\n",
       "      <td>0</td>\n",
       "      <td>0</td>\n",
       "      <td>0</td>\n",
       "      <td>0</td>\n",
       "    </tr>\n",
       "  </tbody>\n",
       "</table>\n",
       "<p>1 rows × 36 columns</p>\n",
       "</div>"
      ],
      "text/plain": [
       "   Age  Satisfaction Rate  Customer Tenure in months  Unit Price  \\\n",
       "0   27                  2                          2       35000   \n",
       "\n",
       "   Number of Times Purchased  Total Revenue  Data Usage Customer Churn Status  \\\n",
       "0                         19         665000       44.48                   Yes   \n",
       "\n",
       "   Customer_Churn_Status_Label  MTN Device_4G Router  ...  \\\n",
       "0                            1                     1  ...   \n",
       "\n",
       "   Subscription Plan_20GB Monthly Plan  Subscription Plan_25GB Monthly Plan  \\\n",
       "0                                    0                                    0   \n",
       "\n",
       "   Subscription Plan_3.2GB 2-Day Plan  \\\n",
       "0                                   0   \n",
       "\n",
       "   Subscription Plan_300GB FUP Monthly Unlimited  \\\n",
       "0                                              0   \n",
       "\n",
       "   Subscription Plan_30GB Monthly Broadband Plan  \\\n",
       "0                                              0   \n",
       "\n",
       "   Subscription Plan_450GB 3-Month Broadband Plan  \\\n",
       "0                                               0   \n",
       "\n",
       "   Subscription Plan_500MB Daily Plan  \\\n",
       "0                                   0   \n",
       "\n",
       "   Subscription Plan_60GB Monthly Broadband Plan  \\\n",
       "0                                              0   \n",
       "\n",
       "   Subscription Plan_65GB Monthly Plan  Subscription Plan_7GB Monthly Plan  \n",
       "0                                    0                                   0  \n",
       "\n",
       "[1 rows x 36 columns]"
      ]
     },
     "execution_count": 28,
     "metadata": {},
     "output_type": "execute_result"
    }
   ],
   "source": [
    "df.head(1)"
   ]
  },
  {
   "cell_type": "markdown",
   "id": "72930763-2e00-4301-b1ea-33a95ea87796",
   "metadata": {},
   "source": [
    "---"
   ]
  },
  {
   "cell_type": "code",
   "execution_count": 29,
   "id": "4dd7fe27-844c-4201-941a-af740772ffb2",
   "metadata": {
    "scrolled": true
   },
   "outputs": [
    {
     "data": {
      "text/plain": [
       "Age                                                 int64\n",
       "Satisfaction Rate                                   int64\n",
       "Customer Tenure in months                           int64\n",
       "Unit Price                                          int64\n",
       "Number of Times Purchased                           int64\n",
       "Total Revenue                                       int64\n",
       "Data Usage                                        float64\n",
       "Customer Churn Status                              object\n",
       "Customer_Churn_Status_Label                         int32\n",
       "MTN Device_4G Router                                int32\n",
       "MTN Device_5G Broadband Router                      int32\n",
       "MTN Device_Broadband MiFi                           int32\n",
       "MTN Device_Mobile SIM Card                          int32\n",
       "Gender_Cat                                          int32\n",
       "Customer_Review_Cat                                 int64\n",
       "Subscription Plan_1.5GB 2-Day Plan                  int32\n",
       "Subscription Plan_1.5TB Yearly Broadband Plan       int32\n",
       "Subscription Plan_10GB+10mins Monthly Plan          int32\n",
       "Subscription Plan_12.5GB Monthly Plan               int32\n",
       "Subscription Plan_120GB Monthly Broadband Plan      int32\n",
       "Subscription Plan_150GB FUP Monthly Unlimited       int32\n",
       "Subscription Plan_16.5GB+10mins Monthly Plan        int32\n",
       "Subscription Plan_165GB Monthly Plan                int32\n",
       "Subscription Plan_1GB+1.5mins Daily Plan            int32\n",
       "Subscription Plan_2.5GB 2-Day Plan                  int32\n",
       "Subscription Plan_200GB Monthly Broadband Plan      int32\n",
       "Subscription Plan_20GB Monthly Plan                 int32\n",
       "Subscription Plan_25GB Monthly Plan                 int32\n",
       "Subscription Plan_3.2GB 2-Day Plan                  int32\n",
       "Subscription Plan_300GB FUP Monthly Unlimited       int32\n",
       "Subscription Plan_30GB Monthly Broadband Plan       int32\n",
       "Subscription Plan_450GB 3-Month Broadband Plan      int32\n",
       "Subscription Plan_500MB Daily Plan                  int32\n",
       "Subscription Plan_60GB Monthly Broadband Plan       int32\n",
       "Subscription Plan_65GB Monthly Plan                 int32\n",
       "Subscription Plan_7GB Monthly Plan                  int32\n",
       "dtype: object"
      ]
     },
     "execution_count": 29,
     "metadata": {},
     "output_type": "execute_result"
    }
   ],
   "source": [
    "df.dtypes"
   ]
  },
  {
   "cell_type": "code",
   "execution_count": 30,
   "id": "0969498a-4e4d-42e3-95d0-f532358efa71",
   "metadata": {},
   "outputs": [],
   "source": [
    "df.drop('Customer Churn Status', axis=1, inplace=True)"
   ]
  },
  {
   "cell_type": "markdown",
   "id": "06812461-9b18-47c2-812a-5248d5a6bf80",
   "metadata": {},
   "source": [
    "---"
   ]
  },
  {
   "cell_type": "code",
   "execution_count": 31,
   "id": "0f9dfe78-7796-4575-9c60-a95d43802181",
   "metadata": {},
   "outputs": [],
   "source": [
    "from sklearn.model_selection import train_test_split\n",
    "from sklearn.preprocessing import StandardScaler\n",
    "from imblearn.over_sampling import SMOTE"
   ]
  },
  {
   "cell_type": "code",
   "execution_count": 32,
   "id": "4dd848ea-8ce1-4fd1-adb4-f222c96a420f",
   "metadata": {},
   "outputs": [],
   "source": [
    "X = df.drop('Customer_Churn_Status_Label', axis=1).values\n",
    "y = df['Customer_Churn_Status_Label'].values"
   ]
  },
  {
   "cell_type": "code",
   "execution_count": 33,
   "id": "9da90543-6365-452d-8225-0b11795a23d5",
   "metadata": {},
   "outputs": [],
   "source": [
    "X_train, X_test, y_train, y_test = train_test_split(X, y, random_state=42, shuffle=True, stratify=y)"
   ]
  },
  {
   "cell_type": "code",
   "execution_count": 34,
   "id": "cdccb98e-27fc-4994-b994-a1c96fd6f226",
   "metadata": {},
   "outputs": [],
   "source": [
    "smote = SMOTE(sampling_strategy='minority', random_state=42, k_neighbors=5)\n",
    "\n",
    "X_train_smote, y_train_smote = smote.fit_resample(X_train, y_train)"
   ]
  },
  {
   "cell_type": "code",
   "execution_count": 35,
   "id": "1327f715-9cbd-4680-8f0c-9cc7d153bbda",
   "metadata": {},
   "outputs": [
    {
     "data": {
      "text/plain": [
       "((array([0, 1]), array([517, 213], dtype=int64)),\n",
       " (array([0, 1]), array([517, 517], dtype=int64)))"
      ]
     },
     "execution_count": 35,
     "metadata": {},
     "output_type": "execute_result"
    }
   ],
   "source": [
    "np.unique(y_train, return_counts=True), np.unique(y_train_smote, return_counts=True)"
   ]
  },
  {
   "cell_type": "code",
   "execution_count": 36,
   "id": "fe1c5f35-1f78-4fc3-9f3c-97800a105fe1",
   "metadata": {},
   "outputs": [],
   "source": [
    "scaler = StandardScaler()\n",
    "\n",
    "X_train_scaler = scaler.fit_transform(X_train_smote)\n",
    "X_test_scaler = scaler.transform(X_test)"
   ]
  },
  {
   "cell_type": "markdown",
   "id": "19882012-e1f4-4cb5-bb3b-3fe394e96893",
   "metadata": {},
   "source": [
    "---"
   ]
  },
  {
   "cell_type": "markdown",
   "id": "d2b2fbb0-07cf-417a-bb30-6268aca9aa89",
   "metadata": {},
   "source": [
    "# Models"
   ]
  },
  {
   "cell_type": "code",
   "execution_count": 37,
   "id": "714e953b-1d2f-4f68-89d2-6b5ca82df5a6",
   "metadata": {},
   "outputs": [],
   "source": [
    "from sklearn.linear_model import LogisticRegression\n",
    "from sklearn.ensemble import RandomForestClassifier\n",
    "from sklearn.tree import DecisionTreeClassifier\n",
    "from xgboost import XGBClassifier\n",
    "\n",
    "from sklearn.metrics import accuracy_score, recall_score, f1_score"
   ]
  },
  {
   "cell_type": "code",
   "execution_count": 38,
   "id": "043f6203-1443-4121-9f8b-7fff979c75cd",
   "metadata": {
    "scrolled": true
   },
   "outputs": [
    {
     "name": "stdout",
     "output_type": "stream",
     "text": [
      "\n",
      "Logistic Regression\n",
      "Unique predictions: (array([0, 1]), array([145,  99], dtype=int64))\n",
      "Accuracy: 0.5491803278688525\n",
      "Recall: 0.4225352112676056\n",
      "F1: 0.35294117647058826\n",
      "\n",
      "Random Forest\n",
      "Unique predictions: (array([0, 1]), array([200,  44], dtype=int64))\n",
      "Accuracy: 0.6434426229508197\n",
      "Recall: 0.19718309859154928\n",
      "F1: 0.24347826086956523\n",
      "\n",
      "Decision Tree\n",
      "Unique predictions: (array([0, 1]), array([154,  90], dtype=int64))\n",
      "Accuracy: 0.6270491803278688\n",
      "Recall: 0.49295774647887325\n",
      "F1: 0.43478260869565216\n",
      "\n",
      "XGB\n",
      "Unique predictions: (array([0, 1]), array([190,  54], dtype=int64))\n",
      "Accuracy: 0.7254098360655737\n",
      "Recall: 0.4084507042253521\n",
      "F1: 0.464\n"
     ]
    },
    {
     "data": {
      "text/html": [
       "<div>\n",
       "<style scoped>\n",
       "    .dataframe tbody tr th:only-of-type {\n",
       "        vertical-align: middle;\n",
       "    }\n",
       "\n",
       "    .dataframe tbody tr th {\n",
       "        vertical-align: top;\n",
       "    }\n",
       "\n",
       "    .dataframe thead th {\n",
       "        text-align: right;\n",
       "    }\n",
       "</style>\n",
       "<table border=\"1\" class=\"dataframe\">\n",
       "  <thead>\n",
       "    <tr style=\"text-align: right;\">\n",
       "      <th></th>\n",
       "      <th>Model</th>\n",
       "      <th>Accuracy</th>\n",
       "      <th>Recall</th>\n",
       "      <th>F1</th>\n",
       "    </tr>\n",
       "  </thead>\n",
       "  <tbody>\n",
       "    <tr>\n",
       "      <th>0</th>\n",
       "      <td>Logistic Regression</td>\n",
       "      <td>0.549180</td>\n",
       "      <td>0.422535</td>\n",
       "      <td>0.352941</td>\n",
       "    </tr>\n",
       "    <tr>\n",
       "      <th>1</th>\n",
       "      <td>Random Forest</td>\n",
       "      <td>0.643443</td>\n",
       "      <td>0.197183</td>\n",
       "      <td>0.243478</td>\n",
       "    </tr>\n",
       "    <tr>\n",
       "      <th>2</th>\n",
       "      <td>Decision Tree</td>\n",
       "      <td>0.627049</td>\n",
       "      <td>0.492958</td>\n",
       "      <td>0.434783</td>\n",
       "    </tr>\n",
       "    <tr>\n",
       "      <th>3</th>\n",
       "      <td>XGB</td>\n",
       "      <td>0.725410</td>\n",
       "      <td>0.408451</td>\n",
       "      <td>0.464000</td>\n",
       "    </tr>\n",
       "  </tbody>\n",
       "</table>\n",
       "</div>"
      ],
      "text/plain": [
       "                 Model  Accuracy    Recall        F1\n",
       "0  Logistic Regression  0.549180  0.422535  0.352941\n",
       "1        Random Forest  0.643443  0.197183  0.243478\n",
       "2        Decision Tree  0.627049  0.492958  0.434783\n",
       "3                  XGB  0.725410  0.408451  0.464000"
      ]
     },
     "execution_count": 38,
     "metadata": {},
     "output_type": "execute_result"
    }
   ],
   "source": [
    "models = {\n",
    "    'Logistic Regression': LogisticRegression(),\n",
    "    'Random Forest': RandomForestClassifier(n_estimators=100, max_depth=5),\n",
    "    'Decision Tree': DecisionTreeClassifier(max_depth=5),\n",
    "    'XGB': XGBClassifier(objective='binary:logistic', n_estimators=100, max_depth=5)\n",
    "}\n",
    "\n",
    "metrics = []\n",
    "\n",
    "for name, model in models.items():\n",
    "    model.fit(X_train_scaler, y_train_smote)\n",
    "\n",
    "    pred = model.predict(X_test_scaler)\n",
    "    \n",
    "    print(f\"\\n{name}\")\n",
    "    print(\"Unique predictions:\", np.unique(pred, return_counts=True))\n",
    "    print(\"Accuracy:\", accuracy_score(y_test, pred))\n",
    "    print(\"Recall:\", recall_score(y_test, pred))\n",
    "    print(\"F1:\", f1_score(y_test, pred))\n",
    "\n",
    "    accuracy = accuracy_score(y_test, pred)\n",
    "    recall = recall_score(y_test, pred)\n",
    "    f1 = f1_score(y_test, pred)\n",
    "\n",
    "    metrics.append({\n",
    "        'Model': name,\n",
    "        'Accuracy': accuracy,\n",
    "        'Recall': recall,\n",
    "        'F1': f1\n",
    "    })\n",
    "\n",
    "metrics_df = pd.DataFrame(metrics)\n",
    "\n",
    "metrics_df"
   ]
  },
  {
   "cell_type": "markdown",
   "id": "a77ac148-931f-47a8-ba7b-1f9fe8941085",
   "metadata": {},
   "source": [
    "---"
   ]
  },
  {
   "cell_type": "markdown",
   "id": "c06ea801-4a12-42cd-9dd4-ee979f02c36d",
   "metadata": {},
   "source": [
    "# Features Selection"
   ]
  },
  {
   "cell_type": "code",
   "execution_count": 39,
   "id": "9f5793d1-f0c2-4c45-af6e-140452df64b4",
   "metadata": {},
   "outputs": [],
   "source": [
    "from sklearn.ensemble import ExtraTreesClassifier"
   ]
  },
  {
   "cell_type": "code",
   "execution_count": 40,
   "id": "be813a71-a795-4477-a104-9dcaee81e42b",
   "metadata": {},
   "outputs": [],
   "source": [
    "selection = ExtraTreesClassifier(n_estimators=100, max_depth=5, random_state=42)"
   ]
  },
  {
   "cell_type": "code",
   "execution_count": 41,
   "id": "71992d82-54fc-479b-8fe5-15aca1a44311",
   "metadata": {},
   "outputs": [
    {
     "data": {
      "text/html": [
       "<style>#sk-container-id-1 {\n",
       "  /* Definition of color scheme common for light and dark mode */\n",
       "  --sklearn-color-text: #000;\n",
       "  --sklearn-color-text-muted: #666;\n",
       "  --sklearn-color-line: gray;\n",
       "  /* Definition of color scheme for unfitted estimators */\n",
       "  --sklearn-color-unfitted-level-0: #fff5e6;\n",
       "  --sklearn-color-unfitted-level-1: #f6e4d2;\n",
       "  --sklearn-color-unfitted-level-2: #ffe0b3;\n",
       "  --sklearn-color-unfitted-level-3: chocolate;\n",
       "  /* Definition of color scheme for fitted estimators */\n",
       "  --sklearn-color-fitted-level-0: #f0f8ff;\n",
       "  --sklearn-color-fitted-level-1: #d4ebff;\n",
       "  --sklearn-color-fitted-level-2: #b3dbfd;\n",
       "  --sklearn-color-fitted-level-3: cornflowerblue;\n",
       "\n",
       "  /* Specific color for light theme */\n",
       "  --sklearn-color-text-on-default-background: var(--sg-text-color, var(--theme-code-foreground, var(--jp-content-font-color1, black)));\n",
       "  --sklearn-color-background: var(--sg-background-color, var(--theme-background, var(--jp-layout-color0, white)));\n",
       "  --sklearn-color-border-box: var(--sg-text-color, var(--theme-code-foreground, var(--jp-content-font-color1, black)));\n",
       "  --sklearn-color-icon: #696969;\n",
       "\n",
       "  @media (prefers-color-scheme: dark) {\n",
       "    /* Redefinition of color scheme for dark theme */\n",
       "    --sklearn-color-text-on-default-background: var(--sg-text-color, var(--theme-code-foreground, var(--jp-content-font-color1, white)));\n",
       "    --sklearn-color-background: var(--sg-background-color, var(--theme-background, var(--jp-layout-color0, #111)));\n",
       "    --sklearn-color-border-box: var(--sg-text-color, var(--theme-code-foreground, var(--jp-content-font-color1, white)));\n",
       "    --sklearn-color-icon: #878787;\n",
       "  }\n",
       "}\n",
       "\n",
       "#sk-container-id-1 {\n",
       "  color: var(--sklearn-color-text);\n",
       "}\n",
       "\n",
       "#sk-container-id-1 pre {\n",
       "  padding: 0;\n",
       "}\n",
       "\n",
       "#sk-container-id-1 input.sk-hidden--visually {\n",
       "  border: 0;\n",
       "  clip: rect(1px 1px 1px 1px);\n",
       "  clip: rect(1px, 1px, 1px, 1px);\n",
       "  height: 1px;\n",
       "  margin: -1px;\n",
       "  overflow: hidden;\n",
       "  padding: 0;\n",
       "  position: absolute;\n",
       "  width: 1px;\n",
       "}\n",
       "\n",
       "#sk-container-id-1 div.sk-dashed-wrapped {\n",
       "  border: 1px dashed var(--sklearn-color-line);\n",
       "  margin: 0 0.4em 0.5em 0.4em;\n",
       "  box-sizing: border-box;\n",
       "  padding-bottom: 0.4em;\n",
       "  background-color: var(--sklearn-color-background);\n",
       "}\n",
       "\n",
       "#sk-container-id-1 div.sk-container {\n",
       "  /* jupyter's `normalize.less` sets `[hidden] { display: none; }`\n",
       "     but bootstrap.min.css set `[hidden] { display: none !important; }`\n",
       "     so we also need the `!important` here to be able to override the\n",
       "     default hidden behavior on the sphinx rendered scikit-learn.org.\n",
       "     See: https://github.com/scikit-learn/scikit-learn/issues/21755 */\n",
       "  display: inline-block !important;\n",
       "  position: relative;\n",
       "}\n",
       "\n",
       "#sk-container-id-1 div.sk-text-repr-fallback {\n",
       "  display: none;\n",
       "}\n",
       "\n",
       "div.sk-parallel-item,\n",
       "div.sk-serial,\n",
       "div.sk-item {\n",
       "  /* draw centered vertical line to link estimators */\n",
       "  background-image: linear-gradient(var(--sklearn-color-text-on-default-background), var(--sklearn-color-text-on-default-background));\n",
       "  background-size: 2px 100%;\n",
       "  background-repeat: no-repeat;\n",
       "  background-position: center center;\n",
       "}\n",
       "\n",
       "/* Parallel-specific style estimator block */\n",
       "\n",
       "#sk-container-id-1 div.sk-parallel-item::after {\n",
       "  content: \"\";\n",
       "  width: 100%;\n",
       "  border-bottom: 2px solid var(--sklearn-color-text-on-default-background);\n",
       "  flex-grow: 1;\n",
       "}\n",
       "\n",
       "#sk-container-id-1 div.sk-parallel {\n",
       "  display: flex;\n",
       "  align-items: stretch;\n",
       "  justify-content: center;\n",
       "  background-color: var(--sklearn-color-background);\n",
       "  position: relative;\n",
       "}\n",
       "\n",
       "#sk-container-id-1 div.sk-parallel-item {\n",
       "  display: flex;\n",
       "  flex-direction: column;\n",
       "}\n",
       "\n",
       "#sk-container-id-1 div.sk-parallel-item:first-child::after {\n",
       "  align-self: flex-end;\n",
       "  width: 50%;\n",
       "}\n",
       "\n",
       "#sk-container-id-1 div.sk-parallel-item:last-child::after {\n",
       "  align-self: flex-start;\n",
       "  width: 50%;\n",
       "}\n",
       "\n",
       "#sk-container-id-1 div.sk-parallel-item:only-child::after {\n",
       "  width: 0;\n",
       "}\n",
       "\n",
       "/* Serial-specific style estimator block */\n",
       "\n",
       "#sk-container-id-1 div.sk-serial {\n",
       "  display: flex;\n",
       "  flex-direction: column;\n",
       "  align-items: center;\n",
       "  background-color: var(--sklearn-color-background);\n",
       "  padding-right: 1em;\n",
       "  padding-left: 1em;\n",
       "}\n",
       "\n",
       "\n",
       "/* Toggleable style: style used for estimator/Pipeline/ColumnTransformer box that is\n",
       "clickable and can be expanded/collapsed.\n",
       "- Pipeline and ColumnTransformer use this feature and define the default style\n",
       "- Estimators will overwrite some part of the style using the `sk-estimator` class\n",
       "*/\n",
       "\n",
       "/* Pipeline and ColumnTransformer style (default) */\n",
       "\n",
       "#sk-container-id-1 div.sk-toggleable {\n",
       "  /* Default theme specific background. It is overwritten whether we have a\n",
       "  specific estimator or a Pipeline/ColumnTransformer */\n",
       "  background-color: var(--sklearn-color-background);\n",
       "}\n",
       "\n",
       "/* Toggleable label */\n",
       "#sk-container-id-1 label.sk-toggleable__label {\n",
       "  cursor: pointer;\n",
       "  display: flex;\n",
       "  width: 100%;\n",
       "  margin-bottom: 0;\n",
       "  padding: 0.5em;\n",
       "  box-sizing: border-box;\n",
       "  text-align: center;\n",
       "  align-items: start;\n",
       "  justify-content: space-between;\n",
       "  gap: 0.5em;\n",
       "}\n",
       "\n",
       "#sk-container-id-1 label.sk-toggleable__label .caption {\n",
       "  font-size: 0.6rem;\n",
       "  font-weight: lighter;\n",
       "  color: var(--sklearn-color-text-muted);\n",
       "}\n",
       "\n",
       "#sk-container-id-1 label.sk-toggleable__label-arrow:before {\n",
       "  /* Arrow on the left of the label */\n",
       "  content: \"▸\";\n",
       "  float: left;\n",
       "  margin-right: 0.25em;\n",
       "  color: var(--sklearn-color-icon);\n",
       "}\n",
       "\n",
       "#sk-container-id-1 label.sk-toggleable__label-arrow:hover:before {\n",
       "  color: var(--sklearn-color-text);\n",
       "}\n",
       "\n",
       "/* Toggleable content - dropdown */\n",
       "\n",
       "#sk-container-id-1 div.sk-toggleable__content {\n",
       "  max-height: 0;\n",
       "  max-width: 0;\n",
       "  overflow: hidden;\n",
       "  text-align: left;\n",
       "  /* unfitted */\n",
       "  background-color: var(--sklearn-color-unfitted-level-0);\n",
       "}\n",
       "\n",
       "#sk-container-id-1 div.sk-toggleable__content.fitted {\n",
       "  /* fitted */\n",
       "  background-color: var(--sklearn-color-fitted-level-0);\n",
       "}\n",
       "\n",
       "#sk-container-id-1 div.sk-toggleable__content pre {\n",
       "  margin: 0.2em;\n",
       "  border-radius: 0.25em;\n",
       "  color: var(--sklearn-color-text);\n",
       "  /* unfitted */\n",
       "  background-color: var(--sklearn-color-unfitted-level-0);\n",
       "}\n",
       "\n",
       "#sk-container-id-1 div.sk-toggleable__content.fitted pre {\n",
       "  /* unfitted */\n",
       "  background-color: var(--sklearn-color-fitted-level-0);\n",
       "}\n",
       "\n",
       "#sk-container-id-1 input.sk-toggleable__control:checked~div.sk-toggleable__content {\n",
       "  /* Expand drop-down */\n",
       "  max-height: 200px;\n",
       "  max-width: 100%;\n",
       "  overflow: auto;\n",
       "}\n",
       "\n",
       "#sk-container-id-1 input.sk-toggleable__control:checked~label.sk-toggleable__label-arrow:before {\n",
       "  content: \"▾\";\n",
       "}\n",
       "\n",
       "/* Pipeline/ColumnTransformer-specific style */\n",
       "\n",
       "#sk-container-id-1 div.sk-label input.sk-toggleable__control:checked~label.sk-toggleable__label {\n",
       "  color: var(--sklearn-color-text);\n",
       "  background-color: var(--sklearn-color-unfitted-level-2);\n",
       "}\n",
       "\n",
       "#sk-container-id-1 div.sk-label.fitted input.sk-toggleable__control:checked~label.sk-toggleable__label {\n",
       "  background-color: var(--sklearn-color-fitted-level-2);\n",
       "}\n",
       "\n",
       "/* Estimator-specific style */\n",
       "\n",
       "/* Colorize estimator box */\n",
       "#sk-container-id-1 div.sk-estimator input.sk-toggleable__control:checked~label.sk-toggleable__label {\n",
       "  /* unfitted */\n",
       "  background-color: var(--sklearn-color-unfitted-level-2);\n",
       "}\n",
       "\n",
       "#sk-container-id-1 div.sk-estimator.fitted input.sk-toggleable__control:checked~label.sk-toggleable__label {\n",
       "  /* fitted */\n",
       "  background-color: var(--sklearn-color-fitted-level-2);\n",
       "}\n",
       "\n",
       "#sk-container-id-1 div.sk-label label.sk-toggleable__label,\n",
       "#sk-container-id-1 div.sk-label label {\n",
       "  /* The background is the default theme color */\n",
       "  color: var(--sklearn-color-text-on-default-background);\n",
       "}\n",
       "\n",
       "/* On hover, darken the color of the background */\n",
       "#sk-container-id-1 div.sk-label:hover label.sk-toggleable__label {\n",
       "  color: var(--sklearn-color-text);\n",
       "  background-color: var(--sklearn-color-unfitted-level-2);\n",
       "}\n",
       "\n",
       "/* Label box, darken color on hover, fitted */\n",
       "#sk-container-id-1 div.sk-label.fitted:hover label.sk-toggleable__label.fitted {\n",
       "  color: var(--sklearn-color-text);\n",
       "  background-color: var(--sklearn-color-fitted-level-2);\n",
       "}\n",
       "\n",
       "/* Estimator label */\n",
       "\n",
       "#sk-container-id-1 div.sk-label label {\n",
       "  font-family: monospace;\n",
       "  font-weight: bold;\n",
       "  display: inline-block;\n",
       "  line-height: 1.2em;\n",
       "}\n",
       "\n",
       "#sk-container-id-1 div.sk-label-container {\n",
       "  text-align: center;\n",
       "}\n",
       "\n",
       "/* Estimator-specific */\n",
       "#sk-container-id-1 div.sk-estimator {\n",
       "  font-family: monospace;\n",
       "  border: 1px dotted var(--sklearn-color-border-box);\n",
       "  border-radius: 0.25em;\n",
       "  box-sizing: border-box;\n",
       "  margin-bottom: 0.5em;\n",
       "  /* unfitted */\n",
       "  background-color: var(--sklearn-color-unfitted-level-0);\n",
       "}\n",
       "\n",
       "#sk-container-id-1 div.sk-estimator.fitted {\n",
       "  /* fitted */\n",
       "  background-color: var(--sklearn-color-fitted-level-0);\n",
       "}\n",
       "\n",
       "/* on hover */\n",
       "#sk-container-id-1 div.sk-estimator:hover {\n",
       "  /* unfitted */\n",
       "  background-color: var(--sklearn-color-unfitted-level-2);\n",
       "}\n",
       "\n",
       "#sk-container-id-1 div.sk-estimator.fitted:hover {\n",
       "  /* fitted */\n",
       "  background-color: var(--sklearn-color-fitted-level-2);\n",
       "}\n",
       "\n",
       "/* Specification for estimator info (e.g. \"i\" and \"?\") */\n",
       "\n",
       "/* Common style for \"i\" and \"?\" */\n",
       "\n",
       ".sk-estimator-doc-link,\n",
       "a:link.sk-estimator-doc-link,\n",
       "a:visited.sk-estimator-doc-link {\n",
       "  float: right;\n",
       "  font-size: smaller;\n",
       "  line-height: 1em;\n",
       "  font-family: monospace;\n",
       "  background-color: var(--sklearn-color-background);\n",
       "  border-radius: 1em;\n",
       "  height: 1em;\n",
       "  width: 1em;\n",
       "  text-decoration: none !important;\n",
       "  margin-left: 0.5em;\n",
       "  text-align: center;\n",
       "  /* unfitted */\n",
       "  border: var(--sklearn-color-unfitted-level-1) 1pt solid;\n",
       "  color: var(--sklearn-color-unfitted-level-1);\n",
       "}\n",
       "\n",
       ".sk-estimator-doc-link.fitted,\n",
       "a:link.sk-estimator-doc-link.fitted,\n",
       "a:visited.sk-estimator-doc-link.fitted {\n",
       "  /* fitted */\n",
       "  border: var(--sklearn-color-fitted-level-1) 1pt solid;\n",
       "  color: var(--sklearn-color-fitted-level-1);\n",
       "}\n",
       "\n",
       "/* On hover */\n",
       "div.sk-estimator:hover .sk-estimator-doc-link:hover,\n",
       ".sk-estimator-doc-link:hover,\n",
       "div.sk-label-container:hover .sk-estimator-doc-link:hover,\n",
       ".sk-estimator-doc-link:hover {\n",
       "  /* unfitted */\n",
       "  background-color: var(--sklearn-color-unfitted-level-3);\n",
       "  color: var(--sklearn-color-background);\n",
       "  text-decoration: none;\n",
       "}\n",
       "\n",
       "div.sk-estimator.fitted:hover .sk-estimator-doc-link.fitted:hover,\n",
       ".sk-estimator-doc-link.fitted:hover,\n",
       "div.sk-label-container:hover .sk-estimator-doc-link.fitted:hover,\n",
       ".sk-estimator-doc-link.fitted:hover {\n",
       "  /* fitted */\n",
       "  background-color: var(--sklearn-color-fitted-level-3);\n",
       "  color: var(--sklearn-color-background);\n",
       "  text-decoration: none;\n",
       "}\n",
       "\n",
       "/* Span, style for the box shown on hovering the info icon */\n",
       ".sk-estimator-doc-link span {\n",
       "  display: none;\n",
       "  z-index: 9999;\n",
       "  position: relative;\n",
       "  font-weight: normal;\n",
       "  right: .2ex;\n",
       "  padding: .5ex;\n",
       "  margin: .5ex;\n",
       "  width: min-content;\n",
       "  min-width: 20ex;\n",
       "  max-width: 50ex;\n",
       "  color: var(--sklearn-color-text);\n",
       "  box-shadow: 2pt 2pt 4pt #999;\n",
       "  /* unfitted */\n",
       "  background: var(--sklearn-color-unfitted-level-0);\n",
       "  border: .5pt solid var(--sklearn-color-unfitted-level-3);\n",
       "}\n",
       "\n",
       ".sk-estimator-doc-link.fitted span {\n",
       "  /* fitted */\n",
       "  background: var(--sklearn-color-fitted-level-0);\n",
       "  border: var(--sklearn-color-fitted-level-3);\n",
       "}\n",
       "\n",
       ".sk-estimator-doc-link:hover span {\n",
       "  display: block;\n",
       "}\n",
       "\n",
       "/* \"?\"-specific style due to the `<a>` HTML tag */\n",
       "\n",
       "#sk-container-id-1 a.estimator_doc_link {\n",
       "  float: right;\n",
       "  font-size: 1rem;\n",
       "  line-height: 1em;\n",
       "  font-family: monospace;\n",
       "  background-color: var(--sklearn-color-background);\n",
       "  border-radius: 1rem;\n",
       "  height: 1rem;\n",
       "  width: 1rem;\n",
       "  text-decoration: none;\n",
       "  /* unfitted */\n",
       "  color: var(--sklearn-color-unfitted-level-1);\n",
       "  border: var(--sklearn-color-unfitted-level-1) 1pt solid;\n",
       "}\n",
       "\n",
       "#sk-container-id-1 a.estimator_doc_link.fitted {\n",
       "  /* fitted */\n",
       "  border: var(--sklearn-color-fitted-level-1) 1pt solid;\n",
       "  color: var(--sklearn-color-fitted-level-1);\n",
       "}\n",
       "\n",
       "/* On hover */\n",
       "#sk-container-id-1 a.estimator_doc_link:hover {\n",
       "  /* unfitted */\n",
       "  background-color: var(--sklearn-color-unfitted-level-3);\n",
       "  color: var(--sklearn-color-background);\n",
       "  text-decoration: none;\n",
       "}\n",
       "\n",
       "#sk-container-id-1 a.estimator_doc_link.fitted:hover {\n",
       "  /* fitted */\n",
       "  background-color: var(--sklearn-color-fitted-level-3);\n",
       "}\n",
       "</style><div id=\"sk-container-id-1\" class=\"sk-top-container\"><div class=\"sk-text-repr-fallback\"><pre>ExtraTreesClassifier(max_depth=5, random_state=42)</pre><b>In a Jupyter environment, please rerun this cell to show the HTML representation or trust the notebook. <br />On GitHub, the HTML representation is unable to render, please try loading this page with nbviewer.org.</b></div><div class=\"sk-container\" hidden><div class=\"sk-item\"><div class=\"sk-estimator fitted sk-toggleable\"><input class=\"sk-toggleable__control sk-hidden--visually\" id=\"sk-estimator-id-1\" type=\"checkbox\" checked><label for=\"sk-estimator-id-1\" class=\"sk-toggleable__label fitted sk-toggleable__label-arrow\"><div><div>ExtraTreesClassifier</div></div><div><a class=\"sk-estimator-doc-link fitted\" rel=\"noreferrer\" target=\"_blank\" href=\"https://scikit-learn.org/1.6/modules/generated/sklearn.ensemble.ExtraTreesClassifier.html\">?<span>Documentation for ExtraTreesClassifier</span></a><span class=\"sk-estimator-doc-link fitted\">i<span>Fitted</span></span></div></label><div class=\"sk-toggleable__content fitted\"><pre>ExtraTreesClassifier(max_depth=5, random_state=42)</pre></div> </div></div></div></div>"
      ],
      "text/plain": [
       "ExtraTreesClassifier(max_depth=5, random_state=42)"
      ]
     },
     "execution_count": 41,
     "metadata": {},
     "output_type": "execute_result"
    }
   ],
   "source": [
    "selection.fit(X, y)"
   ]
  },
  {
   "cell_type": "code",
   "execution_count": 42,
   "id": "a536c57c-8708-46f3-91f1-c67cd7ef68f7",
   "metadata": {},
   "outputs": [
    {
     "data": {
      "text/plain": [
       "array([0.11360378, 0.07463525, 0.11352375, 0.01075692, 0.0725601 ,\n",
       "       0.07556839, 0.07055721, 0.01026577, 0.02115442, 0.01147673,\n",
       "       0.01055305, 0.0591527 , 0.08295613, 0.00461886, 0.00743179,\n",
       "       0.02905841, 0.01193029, 0.02997461, 0.01036303, 0.00507725,\n",
       "       0.0051023 , 0.00088544, 0.00358563, 0.05230963, 0.00653148,\n",
       "       0.00623513, 0.03891764, 0.0075645 , 0.00951439, 0.00596151,\n",
       "       0.00252664, 0.00925343, 0.02212224, 0.0042716 ])"
      ]
     },
     "execution_count": 42,
     "metadata": {},
     "output_type": "execute_result"
    }
   ],
   "source": [
    "important = selection.feature_importances_\n",
    "important"
   ]
  },
  {
   "cell_type": "code",
   "execution_count": 43,
   "id": "f9da4264-6a4b-4b08-ace8-f46c01cf38ef",
   "metadata": {},
   "outputs": [],
   "source": [
    "index = []\n",
    "for i in range(len(important)):\n",
    "    if important[i] >= 0.04:\n",
    "        index.append(i)"
   ]
  },
  {
   "cell_type": "code",
   "execution_count": 44,
   "id": "c75ef792-ebac-42a9-aa28-744cefe41b08",
   "metadata": {},
   "outputs": [
    {
     "data": {
      "text/plain": [
       "[0, 1, 2, 4, 5, 6, 11, 12, 23]"
      ]
     },
     "execution_count": 44,
     "metadata": {},
     "output_type": "execute_result"
    }
   ],
   "source": [
    "index"
   ]
  },
  {
   "cell_type": "code",
   "execution_count": 45,
   "id": "35d6561f-8600-4ba6-83ae-149a39d9c2f2",
   "metadata": {},
   "outputs": [
    {
     "data": {
      "text/plain": [
       "Index(['Age', 'Satisfaction Rate', 'Customer Tenure in months',\n",
       "       'Number of Times Purchased', 'Total Revenue', 'Data Usage',\n",
       "       'MTN Device_Mobile SIM Card', 'Gender_Cat',\n",
       "       'Subscription Plan_2.5GB 2-Day Plan'],\n",
       "      dtype='object')"
      ]
     },
     "execution_count": 45,
     "metadata": {},
     "output_type": "execute_result"
    }
   ],
   "source": [
    "columns_features = df.columns[index]\n",
    "columns_features"
   ]
  },
  {
   "cell_type": "code",
   "execution_count": 46,
   "id": "cf0d9811-233f-4781-b918-a2a73f1821df",
   "metadata": {},
   "outputs": [],
   "source": [
    "df_selection_features = df[columns_features]"
   ]
  },
  {
   "cell_type": "code",
   "execution_count": 47,
   "id": "04d25fe0-1e75-4489-858b-f5a6a1484262",
   "metadata": {},
   "outputs": [
    {
     "data": {
      "text/plain": [
       "array([ True,  True,  True,  True,  True,  True,  True,  True,  True])"
      ]
     },
     "execution_count": 47,
     "metadata": {},
     "output_type": "execute_result"
    }
   ],
   "source": [
    "df_selection_features.columns == columns_features"
   ]
  },
  {
   "cell_type": "code",
   "execution_count": 48,
   "id": "116ff3a3-30ce-420a-8b2c-5bc05dc30b1d",
   "metadata": {},
   "outputs": [],
   "source": [
    "X = df.values"
   ]
  },
  {
   "cell_type": "code",
   "execution_count": 49,
   "id": "12cbe2d1-7a4b-442f-9c09-588f2b9811b9",
   "metadata": {},
   "outputs": [
    {
     "name": "stdout",
     "output_type": "stream",
     "text": [
      "\n",
      "Logistic Regression\n",
      "Unique predictions: (array([0, 1]), array([173,  71], dtype=int64))\n",
      "Accuracy: 1.0\n",
      "Recall: 1.0\n",
      "F1: 1.0\n",
      "\n",
      "Random Forest\n",
      "Unique predictions: (array([0, 1]), array([173,  71], dtype=int64))\n",
      "Accuracy: 1.0\n",
      "Recall: 1.0\n",
      "F1: 1.0\n",
      "\n",
      "Decision Tree\n",
      "Unique predictions: (array([0, 1]), array([173,  71], dtype=int64))\n",
      "Accuracy: 1.0\n",
      "Recall: 1.0\n",
      "F1: 1.0\n",
      "\n",
      "XGB\n",
      "Unique predictions: (array([0, 1]), array([173,  71], dtype=int64))\n",
      "Accuracy: 1.0\n",
      "Recall: 1.0\n",
      "F1: 1.0\n"
     ]
    },
    {
     "data": {
      "text/html": [
       "<div>\n",
       "<style scoped>\n",
       "    .dataframe tbody tr th:only-of-type {\n",
       "        vertical-align: middle;\n",
       "    }\n",
       "\n",
       "    .dataframe tbody tr th {\n",
       "        vertical-align: top;\n",
       "    }\n",
       "\n",
       "    .dataframe thead th {\n",
       "        text-align: right;\n",
       "    }\n",
       "</style>\n",
       "<table border=\"1\" class=\"dataframe\">\n",
       "  <thead>\n",
       "    <tr style=\"text-align: right;\">\n",
       "      <th></th>\n",
       "      <th>Model</th>\n",
       "      <th>Accuracy</th>\n",
       "      <th>Recall</th>\n",
       "      <th>F1</th>\n",
       "    </tr>\n",
       "  </thead>\n",
       "  <tbody>\n",
       "    <tr>\n",
       "      <th>0</th>\n",
       "      <td>Logistic Regression</td>\n",
       "      <td>1.0</td>\n",
       "      <td>1.0</td>\n",
       "      <td>1.0</td>\n",
       "    </tr>\n",
       "    <tr>\n",
       "      <th>1</th>\n",
       "      <td>Random Forest</td>\n",
       "      <td>1.0</td>\n",
       "      <td>1.0</td>\n",
       "      <td>1.0</td>\n",
       "    </tr>\n",
       "    <tr>\n",
       "      <th>2</th>\n",
       "      <td>Decision Tree</td>\n",
       "      <td>1.0</td>\n",
       "      <td>1.0</td>\n",
       "      <td>1.0</td>\n",
       "    </tr>\n",
       "    <tr>\n",
       "      <th>3</th>\n",
       "      <td>XGB</td>\n",
       "      <td>1.0</td>\n",
       "      <td>1.0</td>\n",
       "      <td>1.0</td>\n",
       "    </tr>\n",
       "  </tbody>\n",
       "</table>\n",
       "</div>"
      ],
      "text/plain": [
       "                 Model  Accuracy  Recall   F1\n",
       "0  Logistic Regression       1.0     1.0  1.0\n",
       "1        Random Forest       1.0     1.0  1.0\n",
       "2        Decision Tree       1.0     1.0  1.0\n",
       "3                  XGB       1.0     1.0  1.0"
      ]
     },
     "execution_count": 49,
     "metadata": {},
     "output_type": "execute_result"
    }
   ],
   "source": [
    "X_train, X_test, y_train, y_test = train_test_split(X, y, random_state=42, shuffle=True, stratify=y)\n",
    "\n",
    "smote = SMOTE(sampling_strategy='minority', random_state=42, k_neighbors=5)\n",
    "\n",
    "X_train_smote, y_train_smote = smote.fit_resample(X_train, y_train)\n",
    "\n",
    "scaler = StandardScaler()\n",
    "\n",
    "X_train_scaler = scaler.fit_transform(X_train_smote)\n",
    "X_test_scaler = scaler.transform(X_test)\n",
    "\n",
    "models = {\n",
    "    'Logistic Regression': LogisticRegression(),\n",
    "    'Random Forest': RandomForestClassifier(n_estimators=100, max_depth=5),\n",
    "    'Decision Tree': DecisionTreeClassifier(max_depth=5),\n",
    "    'XGB': XGBClassifier(objective='binary:logistic', n_estimators=100, max_depth=5)\n",
    "}\n",
    "\n",
    "metrics = []\n",
    "\n",
    "for name, model in models.items():\n",
    "    model.fit(X_train_scaler, y_train_smote)\n",
    "\n",
    "    pred = model.predict(X_test_scaler)\n",
    "    \n",
    "    print(f\"\\n{name}\")\n",
    "    print(\"Unique predictions:\", np.unique(pred, return_counts=True))\n",
    "    print(\"Accuracy:\", accuracy_score(y_test, pred))\n",
    "    print(\"Recall:\", recall_score(y_test, pred))\n",
    "    print(\"F1:\", f1_score(y_test, pred))\n",
    "\n",
    "    accuracy = accuracy_score(y_test, pred)\n",
    "    recall = recall_score(y_test, pred)\n",
    "    f1 = f1_score(y_test, pred)\n",
    "\n",
    "    metrics.append({\n",
    "        'Model': name,\n",
    "        'Accuracy': accuracy,\n",
    "        'Recall': recall,\n",
    "        'F1': f1\n",
    "    })\n",
    "\n",
    "metrics_df = pd.DataFrame(metrics)\n",
    "\n",
    "metrics_df"
   ]
  },
  {
   "cell_type": "code",
   "execution_count": null,
   "id": "34f71715-43ab-4d93-8544-bff8be6d789e",
   "metadata": {},
   "outputs": [],
   "source": []
  }
 ],
 "metadata": {
  "kernelspec": {
   "display_name": "Python 3 (ipykernel)",
   "language": "python",
   "name": "python3"
  },
  "language_info": {
   "codemirror_mode": {
    "name": "ipython",
    "version": 3
   },
   "file_extension": ".py",
   "mimetype": "text/x-python",
   "name": "python",
   "nbconvert_exporter": "python",
   "pygments_lexer": "ipython3",
   "version": "3.12.7"
  }
 },
 "nbformat": 4,
 "nbformat_minor": 5
}
